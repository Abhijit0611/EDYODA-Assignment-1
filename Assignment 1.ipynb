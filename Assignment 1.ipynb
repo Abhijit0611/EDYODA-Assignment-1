{
 "cells": [
  {
   "cell_type": "markdown",
   "id": "c9b43a04",
   "metadata": {},
   "source": [
    "# `Assignment 1`"
   ]
  },
  {
   "cell_type": "markdown",
   "id": "b95aa2eb",
   "metadata": {},
   "source": [
    "## `Fibonacci Series`"
   ]
  },
  {
   "cell_type": "code",
   "execution_count": 1,
   "id": "d6b26212",
   "metadata": {},
   "outputs": [
    {
     "name": "stdout",
     "output_type": "stream",
     "text": [
      "Enter the no:50\n",
      "1,1,2,3,5,8,13,21,34,55,"
     ]
    }
   ],
   "source": [
    "n=int(input(\"Enter the no:\"))\n",
    "a=0\n",
    "b=1\n",
    "c=0\n",
    "while(c<=n):\n",
    "    a=b\n",
    "    b=c\n",
    "    c=a+b\n",
    "    print(c,end=\",\")\n"
   ]
  },
  {
   "cell_type": "markdown",
   "id": "2c26717d",
   "metadata": {},
   "source": [
    "## `Enter a word from user and reverse it to create mirror image`"
   ]
  },
  {
   "cell_type": "code",
   "execution_count": 2,
   "id": "110e73f6",
   "metadata": {},
   "outputs": [
    {
     "name": "stdout",
     "output_type": "stream",
     "text": [
      "ABHIJIT\n",
      "TIJIHBA"
     ]
    }
   ],
   "source": [
    "w=input()\n",
    "for i in range(len(w)-1,-1,-1):\n",
    "    print(w[i],end=\"\")"
   ]
  },
  {
   "cell_type": "markdown",
   "id": "79dde755",
   "metadata": {},
   "source": [
    "## `No of Even and Odd numbers in given Natural numbers`"
   ]
  },
  {
   "cell_type": "code",
   "execution_count": 11,
   "id": "9b38c477",
   "metadata": {},
   "outputs": [
    {
     "name": "stdout",
     "output_type": "stream",
     "text": [
      "Enter value20\n",
      "Even numbers 10\n",
      "Odd numbers 10\n"
     ]
    }
   ],
   "source": [
    "n=int(input(\"Enter value\"))\n",
    "even=0\n",
    "odd=0\n",
    "for i in range(1,n+1):\n",
    "    if(i%2==0):\n",
    "        even+=1\n",
    "    else:\n",
    "        odd+=1\n",
    "print(\"Even numbers\",even)\n",
    "print(\"Odd numbers\",odd)"
   ]
  },
  {
   "cell_type": "code",
   "execution_count": null,
   "id": "916e0dd3",
   "metadata": {},
   "outputs": [],
   "source": []
  },
  {
   "cell_type": "code",
   "execution_count": null,
   "id": "0d8f52fa",
   "metadata": {},
   "outputs": [],
   "source": []
  }
 ],
 "metadata": {
  "kernelspec": {
   "display_name": "Python 3 (ipykernel)",
   "language": "python",
   "name": "python3"
  },
  "language_info": {
   "codemirror_mode": {
    "name": "ipython",
    "version": 3
   },
   "file_extension": ".py",
   "mimetype": "text/x-python",
   "name": "python",
   "nbconvert_exporter": "python",
   "pygments_lexer": "ipython3",
   "version": "3.9.7"
  }
 },
 "nbformat": 4,
 "nbformat_minor": 5
}
